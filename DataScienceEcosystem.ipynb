{
 "cells": [
  {
   "cell_type": "markdown",
   "id": "bd5bc5da-e74d-4c20-8e1f-e74364bd3bff",
   "metadata": {},
   "source": [
    "# Data Science Tools and Ecosystem"
   ]
  },
  {
   "cell_type": "markdown",
   "id": "40dcdf42-8a08-49c3-b867-72ca36fdbcd4",
   "metadata": {},
   "source": [
    "## In this notebook, Data Science Tools and Ecosystem are summarized."
   ]
  },
  {
   "cell_type": "markdown",
   "id": "0de19b75-9c60-4c7f-94e0-0e5a6edb842f",
   "metadata": {},
   "source": [
    "Some of the popular languages that Data Scientists use are:\n",
    "\n",
    "1. Python\n",
    "2. R\n",
    "3. Java"
   ]
  },
  {
   "cell_type": "markdown",
   "id": "772d234b-6724-4e15-b1ab-7af6baf4cd7e",
   "metadata": {},
   "source": [
    "Some of the commonly used libraries used by Data Scientists include:\n",
    "\n",
    "- Pandas\n",
    "- NumPy\n",
    "- Matplotlib"
   ]
  },
  {
   "cell_type": "markdown",
   "id": "72a42fb3-5446-45ff-b9e2-837d62c5df21",
   "metadata": {},
   "source": [
    "|Data Science Tools|\n",
    "|------------------|\n",
    "|Jupyter Lab|\n",
    "|GitHub|\n",
    "|Hadoop|"
   ]
  },
  {
   "cell_type": "markdown",
   "id": "5cf8fe90-9809-44b3-8b44-79e28d0a7d04",
   "metadata": {},
   "source": [
    "### Below are a few examples of evaluating arithmetic expressions in Python"
   ]
  },
  {
   "cell_type": "code",
   "execution_count": 4,
   "id": "2d9eeb54-7fee-449e-a67d-5e231373b0b9",
   "metadata": {},
   "outputs": [
    {
     "data": {
      "text/plain": [
       "17"
      ]
     },
     "execution_count": 4,
     "metadata": {},
     "output_type": "execute_result"
    }
   ],
   "source": [
    "# This a simple arithmetic expression to mutiply then add integers\n",
    "(3*4)+5"
   ]
  },
  {
   "cell_type": "code",
   "execution_count": 5,
   "id": "2eaaa73a-7482-406f-8854-a61c8e92b597",
   "metadata": {},
   "outputs": [
    {
     "data": {
      "text/plain": [
       "3.3333333333333335"
      ]
     },
     "execution_count": 5,
     "metadata": {},
     "output_type": "execute_result"
    }
   ],
   "source": [
    "# This will convert 200 minutes to hours by diving by 60.\n",
    "200/60"
   ]
  },
  {
   "cell_type": "markdown",
   "id": "17d9e597-23f0-4ba7-932d-32a5fcd529b7",
   "metadata": {},
   "source": [
    "Objectives:\n",
    "- List popular languages for Data Science.\n",
    "- List popular libraries used for Data Science.\n",
    "- List popular tools used in Data Science.\n",
    "- Perform arithmetic calculations in jupyter notebook.\n",
    "- Use markdowns to create informative and organized jupyter notebooks."
   ]
  },
  {
   "cell_type": "markdown",
   "id": "071d5796-aabf-4ad9-9bdd-d0c34e652a9c",
   "metadata": {},
   "source": [
    "## Author\n",
    "Saman Tripathee"
   ]
  }
 ],
 "metadata": {
  "kernelspec": {
   "display_name": "Python 3 (ipykernel)",
   "language": "python",
   "name": "python3"
  },
  "language_info": {
   "codemirror_mode": {
    "name": "ipython",
    "version": 3
   },
   "file_extension": ".py",
   "mimetype": "text/x-python",
   "name": "python",
   "nbconvert_exporter": "python",
   "pygments_lexer": "ipython3",
   "version": "3.12.8"
  }
 },
 "nbformat": 4,
 "nbformat_minor": 5
}
